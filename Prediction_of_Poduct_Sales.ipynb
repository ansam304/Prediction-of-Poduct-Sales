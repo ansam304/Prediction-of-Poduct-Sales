{
  "nbformat": 4,
  "nbformat_minor": 0,
  "metadata": {
    "colab": {
      "provenance": [],
      "authorship_tag": "ABX9TyOhsXZXkG/sCtxgk2YTaJ7V",
      "include_colab_link": true
    },
    "kernelspec": {
      "name": "python3",
      "display_name": "Python 3"
    },
    "language_info": {
      "name": "python"
    }
  },
  "cells": [
    {
      "cell_type": "markdown",
      "metadata": {
        "id": "view-in-github",
        "colab_type": "text"
      },
      "source": [
        "<a href=\"https://colab.research.google.com/github/ansam304/Prediction-of-Product-Sales/blob/main/Prediction_of_Poduct_Sales.ipynb\" target=\"_parent\"><img src=\"https://colab.research.google.com/assets/colab-badge.svg\" alt=\"Open In Colab\"/></a>"
      ]
    },
    {
      "cell_type": "markdown",
      "source": [
        "# Project Title: (Prediction of Product Sales)\n",
        " - Auther: Ansam Aslan\n",
        "\n",
        "\n",
        "\n",
        "\n",
        "\n",
        "\n",
        "\n"
      ],
      "metadata": {
        "id": "7jCRMqbxsd42"
      }
    },
    {
      "cell_type": "markdown",
      "source": [
        " ## Project Overview\n"
      ],
      "metadata": {
        "id": "VkG09ftVwmoB"
      }
    },
    {
      "cell_type": "code",
      "source": [],
      "metadata": {
        "id": "SdKdcApCwtf5"
      },
      "execution_count": null,
      "outputs": []
    },
    {
      "cell_type": "markdown",
      "source": [
        " ## Load and Inspect Data\n"
      ],
      "metadata": {
        "id": "VsFp6pqywuFc"
      }
    },
    {
      "cell_type": "code",
      "source": [],
      "metadata": {
        "id": "xCm_q_sFwzP_"
      },
      "execution_count": null,
      "outputs": []
    },
    {
      "cell_type": "markdown",
      "source": [
        " ## Clean Data"
      ],
      "metadata": {
        "id": "TmQV5HBcw03o"
      }
    },
    {
      "cell_type": "code",
      "source": [],
      "metadata": {
        "id": "S1sT2Q-Zw4no"
      },
      "execution_count": null,
      "outputs": []
    },
    {
      "cell_type": "markdown",
      "source": [
        " ## Exploratory Data Analysis"
      ],
      "metadata": {
        "id": "jW3mPvaQw5eC"
      }
    },
    {
      "cell_type": "code",
      "source": [],
      "metadata": {
        "id": "md-jkjHew7mh"
      },
      "execution_count": null,
      "outputs": []
    },
    {
      "cell_type": "markdown",
      "source": [
        " ## Feature Inspection"
      ],
      "metadata": {
        "id": "j4h2eoaiw81c"
      }
    },
    {
      "cell_type": "code",
      "source": [],
      "metadata": {
        "id": "lSQbGHqlw_Oi"
      },
      "execution_count": null,
      "outputs": []
    }
  ]
}